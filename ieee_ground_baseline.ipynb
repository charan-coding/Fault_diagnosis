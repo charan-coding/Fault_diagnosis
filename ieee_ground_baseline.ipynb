{
  "metadata": {
    "kernelspec": {
      "language": "python",
      "display_name": "Python 3",
      "name": "python3"
    },
    "language_info": {
      "pygments_lexer": "ipython3",
      "nbconvert_exporter": "python",
      "version": "3.6.4",
      "file_extension": ".py",
      "codemirror_mode": {
        "name": "ipython",
        "version": 3
      },
      "name": "python",
      "mimetype": "text/x-python"
    },
    "colab": {
      "provenance": []
    }
  },
  "nbformat_minor": 0,
  "nbformat": 4,
  "cells": [
    {
      "cell_type": "code",
      "source": [
        "# General imports\n",
        "import numpy as np\n",
        "import pandas as pd\n",
        "import os, sys, gc, warnings, random\n",
        "\n",
        "from sklearn import metrics\n",
        "from sklearn.model_selection import train_test_split, KFold\n",
        "from sklearn.preprocessing import LabelEncoder\n",
        "\n",
        "from tqdm import tqdm\n",
        "\n",
        "import math\n",
        "warnings.filterwarnings('ignore')"
      ],
      "metadata": {
        "_uuid": "8f2839f25d086af736a60e9eeb907d3b93b6e0e5",
        "_cell_guid": "b1076dfc-b9ad-4769-8c92-a6c4dae69d19",
        "trusted": true,
        "id": "jODqUGWx-i-O"
      },
      "execution_count": null,
      "outputs": []
    },
    {
      "cell_type": "code",
      "source": [
        "def seed_everything(seed=0):\n",
        "    random.seed(seed)\n",
        "    os.environ['PYTHONHASHSEED'] = str(seed)\n",
        "    np.random.seed(seed)"
      ],
      "metadata": {
        "_uuid": "d629ff2d2480ee46fbb7e2d37f6b5fab8052498a",
        "_cell_guid": "79c7e3d0-c299-4dcb-8224-4455121ee9b0",
        "trusted": true,
        "id": "_txv0Wne-i-R"
      },
      "execution_count": null,
      "outputs": []
    },
    {
      "cell_type": "code",
      "source": [
        "SEED = 143\n",
        "seed_everything(SEED)\n",
        "LOCAL_TEST = False\n",
        "TARGET = 'isFraud'"
      ],
      "metadata": {
        "trusted": true,
        "id": "Amx9cM6c-i-S"
      },
      "execution_count": null,
      "outputs": []
    },
    {
      "cell_type": "code",
      "source": [
        "train_df = pd.read_pickle('../input/ieee-data-minification/train_transaction.pkl')\n",
        "\n",
        "if LOCAL_TEST:\n",
        "    test_df = train_df.iloc[-100000:,].reset_index(drop=True)\n",
        "    train_df = train_df.iloc[:400000,].reset_index(drop=True)\n",
        "\n",
        "    train_identity = pd.read_pickle('../input/ieee-data-minification/train_identity.pkl')\n",
        "    test_identity  = train_identity[train_identity['TransactionID'].isin(test_df['TransactionID'])].reset_index(drop=True)\n",
        "    train_identity = train_identity[train_identity['TransactionID'].isin(train_df['TransactionID'])].reset_index(drop=True)\n",
        "else:\n",
        "    test_df = pd.read_pickle('../input/ieee-data-minification/test_transaction.pkl')\n",
        "    test_identity = pd.read_pickle('../input/ieee-data-minification/test_identity.pkl')"
      ],
      "metadata": {
        "trusted": true,
        "id": "-m2sgIw7-i-S"
      },
      "execution_count": null,
      "outputs": []
    },
    {
      "cell_type": "code",
      "source": [
        "########################### Reset values for \"noise\" card1\n",
        "valid_card = train_df['card1'].value_counts()\n",
        "valid_card = valid_card[valid_card>10]\n",
        "valid_card = list(valid_card.index)\n",
        "\n",
        "train_df['card1'] = np.where(train_df['card1'].isin(valid_card), train_df['card1'], np.nan)\n",
        "test_df['card1']  = np.where(test_df['card1'].isin(valid_card), test_df['card1'], np.nan)"
      ],
      "metadata": {
        "trusted": true,
        "id": "4wSdflYE-i-T"
      },
      "execution_count": null,
      "outputs": []
    },
    {
      "cell_type": "code",
      "source": [
        "########################### Freq encoding\n",
        "i_cols = ['card1','card2','card3','card5',\n",
        "          'C1','C2','C3','C4','C5','C6','C7','C8','C9','C10','C11','C12','C13','C14',\n",
        "          'D1','D2','D3','D4','D5','D6','D7','D8','D9',\n",
        "          'addr1','addr2',\n",
        "          'dist1','dist2',\n",
        "          'P_emaildomain', 'R_emaildomain'\n",
        "         ]\n",
        "\n",
        "for col in i_cols:\n",
        "    temp_df = pd.concat([train_df[[col]], test_df[[col]]])\n",
        "    fq_encode = temp_df[col].value_counts().to_dict()\n",
        "    train_df[col+'_fq_enc'] = train_df[col].map(fq_encode)\n",
        "    test_df[col+'_fq_enc']  = test_df[col].map(fq_encode)"
      ],
      "metadata": {
        "trusted": true,
        "id": "msHaGIlO-i-T"
      },
      "execution_count": null,
      "outputs": []
    },
    {
      "cell_type": "code",
      "source": [
        "########################### ProductCD and M4 Target mean\n",
        "for col in ['ProductCD','M4']:\n",
        "    temp_dict = train_df.groupby([col])[TARGET].agg(['mean']).reset_index().rename(\n",
        "                                                        columns={'mean': col+'_target_mean'})\n",
        "    temp_dict.index = temp_dict[col].values\n",
        "    temp_dict = temp_dict[col+'_target_mean'].to_dict()\n",
        "\n",
        "    train_df[col+'_target_mean'] = train_df[col].map(temp_dict)\n",
        "    test_df[col+'_target_mean']  = test_df[col].map(temp_dict)"
      ],
      "metadata": {
        "trusted": true,
        "id": "juq93Gbr-i-U"
      },
      "execution_count": null,
      "outputs": []
    },
    {
      "cell_type": "code",
      "source": [
        "########################### Encode Str columns\n",
        "for col in list(train_df):\n",
        "    if train_df[col].dtype=='O':\n",
        "        print(col)\n",
        "        train_df[col] = train_df[col].fillna('unseen_before_label')\n",
        "        test_df[col]  = test_df[col].fillna('unseen_before_label')\n",
        "\n",
        "        train_df[col] = train_df[col].astype(str)\n",
        "        test_df[col] = test_df[col].astype(str)\n",
        "\n",
        "        le = LabelEncoder()\n",
        "        le.fit(list(train_df[col])+list(test_df[col]))\n",
        "        train_df[col] = le.transform(train_df[col])\n",
        "        test_df[col]  = le.transform(test_df[col])\n",
        "\n",
        "        train_df[col] = train_df[col].astype('category')\n",
        "        test_df[col] = test_df[col].astype('category')"
      ],
      "metadata": {
        "trusted": true,
        "id": "4yJuF5sA-i-U"
      },
      "execution_count": null,
      "outputs": []
    },
    {
      "cell_type": "code",
      "source": [
        "rm_cols = [\n",
        "    'TransactionID','TransactionDT',TARGET,\n",
        "]\n",
        "features_columns = list(train_df)\n",
        "for col in rm_cols:\n",
        "    if col in features_columns:\n",
        "        features_columns.remove(col)"
      ],
      "metadata": {
        "trusted": true,
        "id": "sz21LfM6-i-V"
      },
      "execution_count": null,
      "outputs": []
    },
    {
      "cell_type": "code",
      "source": [
        "lgb_params = {\n",
        "                    'objective':'binary',\n",
        "                    'boosting_type':'gbdt',\n",
        "                    'metric':'auc',\n",
        "                    'n_jobs':-1,\n",
        "                    'learning_rate':0.01,\n",
        "                    'num_leaves': 2**8,\n",
        "                    'max_depth':-1,\n",
        "                    'tree_learner':'serial',\n",
        "                    'colsample_bytree': 0.7,\n",
        "                    'subsample_freq':1,\n",
        "                    'subsample':1,\n",
        "                    'n_estimators':800,\n",
        "                    'max_bin':255,\n",
        "                    'verbose':-1,\n",
        "                    'seed': SEED,\n",
        "                    'early_stopping_rounds':100,\n",
        "                }"
      ],
      "metadata": {
        "trusted": true,
        "id": "Zvi7K6YN-i-V"
      },
      "execution_count": null,
      "outputs": []
    },
    {
      "cell_type": "code",
      "source": [
        "########################### Model\n",
        "import lightgbm as lgb\n",
        "\n",
        "def make_predictions(tr_df, tt_df, features_columns, target, lgb_params, NFOLDS=2):\n",
        "    folds = KFold(n_splits=NFOLDS, shuffle=True, random_state=SEED)\n",
        "\n",
        "    X,y = tr_df[features_columns], tr_df[target]\n",
        "    P,P_y = tt_df[features_columns], tt_df[target]\n",
        "\n",
        "    tt_df = tt_df[['TransactionID',target]]\n",
        "    predictions = np.zeros(len(tt_df))\n",
        "\n",
        "    for fold_, (trn_idx, val_idx) in enumerate(folds.split(X, y)):\n",
        "        print('Fold:',fold_)\n",
        "        tr_x, tr_y = X.iloc[trn_idx,:], y[trn_idx]\n",
        "        vl_x, vl_y = X.iloc[val_idx,:], y[val_idx]\n",
        "\n",
        "        print(len(tr_x),len(vl_x))\n",
        "        tr_data = lgb.Dataset(tr_x, label=tr_y)\n",
        "\n",
        "        if LOCAL_TEST:\n",
        "            vl_data = lgb.Dataset(P, label=P_y)\n",
        "        else:\n",
        "            vl_data = lgb.Dataset(vl_x, label=vl_y)\n",
        "\n",
        "        estimator = lgb.train(\n",
        "            lgb_params,\n",
        "            tr_data,\n",
        "            valid_sets = [tr_data, vl_data],\n",
        "            verbose_eval = 200,\n",
        "        )\n",
        "\n",
        "        pp_p = estimator.predict(P)\n",
        "        predictions += pp_p/NFOLDS\n",
        "\n",
        "        if LOCAL_TEST:\n",
        "            feature_imp = pd.DataFrame(sorted(zip(estimator.feature_importance(),X.columns)), columns=['Value','Feature'])\n",
        "            print(feature_imp)\n",
        "\n",
        "        del tr_x, tr_y, vl_x, vl_y, tr_data, vl_data\n",
        "        gc.collect()\n",
        "\n",
        "    tt_df['prediction']  = predictions\n",
        "\n",
        "    return tt_df\n",
        "## -------------------"
      ],
      "metadata": {
        "trusted": true,
        "id": "Z1CptLBb-i-W"
      },
      "execution_count": null,
      "outputs": []
    },
    {
      "cell_type": "code",
      "source": [
        "########################### Model Train\n",
        "if LOCAL_TEST:\n",
        "    test_predictions = make_predictions(train_df, test_df, features_columns, TARGET, lgb_params)\n",
        "    print(metrics.roc_auc_score(test_predictions[TARGET], test_predictions['prediction']))\n",
        "else:\n",
        "    lgb_params['learning_rate'] = 0.01\n",
        "    lgb_params['n_estimators'] = 800\n",
        "    lgb_params['early_stopping_rounds'] = 100\n",
        "    test_predictions = make_predictions(train_df, test_df, features_columns, TARGET, lgb_params, NFOLDS=2)"
      ],
      "metadata": {
        "trusted": true,
        "id": "Ead65MhX-i-W"
      },
      "execution_count": null,
      "outputs": []
    },
    {
      "cell_type": "code",
      "source": [
        "########################### Export\n",
        "if not LOCAL_TEST:\n",
        "    test_predictions['isFraud'] = test_predictions['prediction']\n",
        "    test_predictions[['TransactionID','isFraud']].to_csv('submission.csv', index=False)"
      ],
      "metadata": {
        "trusted": true,
        "id": "FbaudRpb-i-X"
      },
      "execution_count": null,
      "outputs": []
    }
  ]
}